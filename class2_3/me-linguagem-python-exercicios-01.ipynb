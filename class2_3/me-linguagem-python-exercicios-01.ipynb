{
 "cells": [
  {
   "cell_type": "markdown",
   "metadata": {},
   "source": [
    "# Mentoria Evolution - Exercícios Python"
   ]
  },
  {
   "cell_type": "markdown",
   "metadata": {},
   "source": [
    "https://minerandodados.com.br"
   ]
  },
  {
   "cell_type": "markdown",
   "metadata": {},
   "source": [
    "* Para executar uma célula digite **Control + enter** ou clique em **Run**.\n",
    "* As celulas para rodar script Python devem ser do tipo code.\n",
    "* Crie células abaixo das celulas que foram escrito o enunciado das questões com as respostas."
   ]
  },
  {
   "cell_type": "markdown",
   "metadata": {},
   "source": [
    "**Obs**: Caso de dúvidas, volte na aula anterior de Python. Não desista :)"
   ]
  },
  {
   "cell_type": "markdown",
   "metadata": {},
   "source": [
    "## Exercícios de Fixação"
   ]
  },
  {
   "cell_type": "markdown",
   "metadata": {},
   "source": [
    "1) Imprima a frase **\"Eu sou Minerador de Dados!\"**"
   ]
  },
  {
   "cell_type": "code",
   "execution_count": 1,
   "metadata": {},
   "outputs": [
    {
     "name": "stdout",
     "output_type": "stream",
     "text": [
      "Eu sou Minerador de Dados\n"
     ]
    }
   ],
   "source": [
    "print (\"Eu sou Minerador de Dados\")"
   ]
  },
  {
   "cell_type": "markdown",
   "metadata": {},
   "source": [
    "2) Faça operações matemáticas de soma, subtração, multiplicação e divisão."
   ]
  },
  {
   "cell_type": "code",
   "execution_count": 2,
   "metadata": {},
   "outputs": [
    {
     "name": "stdout",
     "output_type": "stream",
     "text": [
      "4\n",
      "4\n",
      "12\n",
      "4.0\n"
     ]
    }
   ],
   "source": [
    "print(2+2)\n",
    "print(6-2)\n",
    "print(6*2)\n",
    "print(8/2)"
   ]
  },
  {
   "cell_type": "markdown",
   "metadata": {},
   "source": [
    "3) Imprima o tipo de um determinado do valor **10**."
   ]
  },
  {
   "cell_type": "code",
   "execution_count": 3,
   "metadata": {},
   "outputs": [
    {
     "data": {
      "text/plain": [
       "int"
      ]
     },
     "execution_count": 3,
     "metadata": {},
     "output_type": "execute_result"
    }
   ],
   "source": [
    "type(10)"
   ]
  },
  {
   "cell_type": "markdown",
   "metadata": {},
   "source": [
    "4) Converta o valor passado anteriormente para o tipo **float**"
   ]
  },
  {
   "cell_type": "code",
   "execution_count": 4,
   "metadata": {},
   "outputs": [
    {
     "data": {
      "text/plain": [
       "10.0"
      ]
     },
     "execution_count": 4,
     "metadata": {},
     "output_type": "execute_result"
    }
   ],
   "source": [
    "float(10)"
   ]
  },
  {
   "cell_type": "markdown",
   "metadata": {},
   "source": [
    "5) Faça a conversão do valor float recebido anteriormente para o tipo **string**"
   ]
  },
  {
   "cell_type": "code",
   "execution_count": 5,
   "metadata": {},
   "outputs": [
    {
     "data": {
      "text/plain": [
       "'10'"
      ]
     },
     "execution_count": 5,
     "metadata": {},
     "output_type": "execute_result"
    }
   ],
   "source": [
    "str(10)"
   ]
  },
  {
   "cell_type": "markdown",
   "metadata": {},
   "source": [
    "6) Utilizando variáveis faça:\n",
    "- a) Defina uma variável com o **seu nome** e imprima o seu valor.\n",
    "- b) Imprima o **tipo** dessa variável.\n",
    "- c) Substitua o valor da sua variável nome com a concatenação do seu valor e o seu sobrenome, depois, imprima o novo valor.\n",
    "    - obs: O resultado dessa variável será Nome Sobrenome, exemplo, **Felipe Santana**.\n",
    "- d) Defina duas variaveis com os valores do seu email e idade com apenas uma linha de comando, depois, imprima seus valores."
   ]
  },
  {
   "cell_type": "code",
   "execution_count": 10,
   "metadata": {},
   "outputs": [
    {
     "name": "stdout",
     "output_type": "stream",
     "text": [
      "<class 'str'>\n",
      "Bárbara Silveira\n",
      "barbarasilveiraf@gmail.com\n",
      "25\n"
     ]
    }
   ],
   "source": [
    "name = \"Bárbara\"\n",
    "last_name = \"Silveira\"\n",
    "print(type(name))\n",
    "print(name + \" \" + last_name)\n",
    "email, age = \"barbarasilveiraf@gmail.com\", 25\n",
    "print(email)\n",
    "print(age)"
   ]
  },
  {
   "cell_type": "markdown",
   "metadata": {},
   "source": [
    "7) Utilizando funções de arredonamento faça:\n",
    "- a) Arredonde o valor 2.898\n",
    "- b) Arredonde o valor 2.4545455 e exiba apenas 4 cadas decimais"
   ]
  },
  {
   "cell_type": "code",
   "execution_count": 14,
   "metadata": {},
   "outputs": [
    {
     "name": "stdout",
     "output_type": "stream",
     "text": [
      "a) 3.0\n",
      "b) 2.4545\n"
     ]
    }
   ],
   "source": [
    "print(\"a) \"+ str(round(2.898,0)))\n",
    "print(\"b) \"+ str(round(2.4545455,4)))"
   ]
  },
  {
   "cell_type": "markdown",
   "metadata": {},
   "source": [
    "9) Sobre os objetos Strings, faça:\n",
    "- a) Defina uma variavel com a string: \"Python é uma maldição!\" e imprima\n",
    "- b) Imprima o primeiro caracter da variavel.\n",
    "- c) Imprima os valores do primeiro caracter até o 6.\n",
    "- d) Faça a contagem de todos os caracteres utilizando uma única linha de comando.\n",
    "- e) Faça uma contagem de quantas vezes a palavra dados aparece na seguinte frase:\n",
    "    - \"dados é o novo petróleo, em Deus eu confio, para o resto me traga dados..\"\n",
    "    - Obs: Crie uma variável chamada \"frase\" com a frase acima.\n",
    "- f) Substitua o primeiro caracter da frase acima para maiúsculo\n",
    "- g) Quebre as palavras da frase separado por virgula, criando uma lista."
   ]
  },
  {
   "cell_type": "code",
   "execution_count": 46,
   "metadata": {},
   "outputs": [
    {
     "name": "stdout",
     "output_type": "stream",
     "text": [
      "a) Python é uma maldição!\n",
      "b) P\n",
      "c) Python\n",
      "d) 22\n",
      "e) 2\n",
      "f) Dados é o novo petróleo, em Deus eu confio, para o resto me traga dados..\n",
      "g) ['dados é o novo petróleo', ' em Deus eu confio', ' para o resto me traga dados..']\n"
     ]
    }
   ],
   "source": [
    "var = \"Python é uma maldição!\"\n",
    "print(\"a) \" + var)\n",
    "print(\"b) \" + var[0])\n",
    "print(\"c) \" + var[:6])\n",
    "print(\"d) \" + str(len([x for x in var])))\n",
    "frase = \"dados é o novo petróleo, em Deus eu confio, para o resto me traga dados..\"\n",
    "print(\"e) \" + str(frase.count(\"dados\")))\n",
    "print(\"f) \" + str.upper(frase[0])+frase[1:])\n",
    "print(\"g) \" + str(frase.split(\",\")))"
   ]
  },
  {
   "cell_type": "markdown",
   "metadata": {},
   "source": [
    "- Ao concluir, salve seu notebook e envie suas respostas para **contato@minerandodados.com.br**"
   ]
  }
 ],
 "metadata": {
  "kernelspec": {
   "display_name": "Python 3",
   "language": "python",
   "name": "python3"
  },
  "language_info": {
   "codemirror_mode": {
    "name": "ipython",
    "version": 3
   },
   "file_extension": ".py",
   "mimetype": "text/x-python",
   "name": "python",
   "nbconvert_exporter": "python",
   "pygments_lexer": "ipython3",
   "version": "3.6.5"
  },
  "widgets": {
   "application/vnd.jupyter.widget-state+json": {
    "state": {},
    "version_major": 2,
    "version_minor": 0
   }
  }
 },
 "nbformat": 4,
 "nbformat_minor": 2
}
