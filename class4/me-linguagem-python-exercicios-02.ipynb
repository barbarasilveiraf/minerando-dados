{
 "cells": [
  {
   "cell_type": "markdown",
   "metadata": {},
   "source": [
    "# Mentoria Evolution - Exercício 2"
   ]
  },
  {
   "cell_type": "markdown",
   "metadata": {},
   "source": [
    "## Exercícios de Fixação"
   ]
  },
  {
   "cell_type": "markdown",
   "metadata": {},
   "source": [
    "1) Responda: É possível ter elementos de tipos difentes em uma mesma lista? Exemplo: strings e números?"
   ]
  },
  {
   "cell_type": "markdown",
   "metadata": {},
   "source": [
    "Sim! Como no exemplo abaixo:"
   ]
  },
  {
   "cell_type": "code",
   "execution_count": 1,
   "metadata": {},
   "outputs": [],
   "source": [
    "lista = [\"oii\", 12, \"teste\"]"
   ]
  },
  {
   "cell_type": "markdown",
   "metadata": {},
   "source": [
    "2) Trabalhando com Listas, faça:\n",
    "- a) Cria uma lista de valores inteiros com o **nome** e **idades**.\n",
    "- b) Imprima apenas segundo elemento da lista.\n",
    "- c) Imprima a quantidade de elementos da lista.\n",
    "- d) Substitua o valor do segundo elemento da lista e imprima o resultado.\n",
    "- e) Imprima apenas os valores do segundo elemento em diante.\n",
    "- f) Remova qualquer elemento da lista e imprima o resultado.\n",
    "- g) Defina uma lista chamada salarios com os valores : **900,1200,1500,800,12587,10000**.\n",
    "- h) Verifique se contém o valor 10000 na lista de salarios.\n",
    "- i) Imprima o menor e maior valor da lista.\n",
    "- j) Adicione o valor 7000 a lista.\n",
    "- l) Extenda a lista com dois novos elementos utilizando apenas um método.\n",
    "- m) Imprima o índice do elemento de valor 800 da lista de salarios.\n",
    "- n) Faça uma ordenação dos valores da lista de salarios em ordem crescente e decrescente."
   ]
  },
  {
   "cell_type": "code",
   "execution_count": 4,
   "metadata": {},
   "outputs": [
    {
     "name": "stdout",
     "output_type": "stream",
     "text": [
      "a) [8, 10, 12, 22, 34, 90, 1]\n"
     ]
    }
   ],
   "source": [
    "idades = [8,10, 12 ,22,34,90,1]\n",
    "print(\"a) \"+ str(idades))"
   ]
  },
  {
   "cell_type": "code",
   "execution_count": 5,
   "metadata": {},
   "outputs": [
    {
     "name": "stdout",
     "output_type": "stream",
     "text": [
      "b) 10\n"
     ]
    }
   ],
   "source": [
    "print(\"b) \"+ str(idades[1]))"
   ]
  },
  {
   "cell_type": "code",
   "execution_count": 6,
   "metadata": {},
   "outputs": [
    {
     "name": "stdout",
     "output_type": "stream",
     "text": [
      "c) 7\n"
     ]
    }
   ],
   "source": [
    "print(\"c) \"+ str(len(idades)))"
   ]
  },
  {
   "cell_type": "code",
   "execution_count": 7,
   "metadata": {},
   "outputs": [
    {
     "name": "stdout",
     "output_type": "stream",
     "text": [
      "d) 99\n"
     ]
    }
   ],
   "source": [
    "idades[1] = 99\n",
    "print(\"d) \"+ str(idades[1]))"
   ]
  },
  {
   "cell_type": "code",
   "execution_count": 8,
   "metadata": {},
   "outputs": [
    {
     "name": "stdout",
     "output_type": "stream",
     "text": [
      "e) [99, 12, 22, 34, 90, 1]\n"
     ]
    }
   ],
   "source": [
    "print(\"e) \"+ str(idades[1:]))"
   ]
  },
  {
   "cell_type": "code",
   "execution_count": 12,
   "metadata": {},
   "outputs": [
    {
     "name": "stdout",
     "output_type": "stream",
     "text": [
      "f) [8, 99, 12, 22, 34, 90]\n"
     ]
    }
   ],
   "source": [
    "idades.remove(1)\n",
    "print(\"f) \"+ str(idades))"
   ]
  },
  {
   "cell_type": "code",
   "execution_count": 13,
   "metadata": {},
   "outputs": [
    {
     "name": "stdout",
     "output_type": "stream",
     "text": [
      "g) [900, 1200, 1500, 800, 12587, 10000.0]\n"
     ]
    }
   ],
   "source": [
    "salarios = [900,1200,1500,800,12587,10000.]\n",
    "print(\"g) \"+ str(salarios))"
   ]
  },
  {
   "cell_type": "code",
   "execution_count": 15,
   "metadata": {},
   "outputs": [
    {
     "name": "stdout",
     "output_type": "stream",
     "text": [
      "h)True\n"
     ]
    }
   ],
   "source": [
    "print(\"h)\" + str(10000 in salarios))"
   ]
  },
  {
   "cell_type": "code",
   "execution_count": 16,
   "metadata": {},
   "outputs": [
    {
     "name": "stdout",
     "output_type": "stream",
     "text": [
      "i) menor = 800 maior = 12587\n"
     ]
    }
   ],
   "source": [
    "print(\"i) menor = \"+str(min(salarios)) + \" maior = \"+str(max(salarios)))"
   ]
  },
  {
   "cell_type": "code",
   "execution_count": 18,
   "metadata": {},
   "outputs": [
    {
     "name": "stdout",
     "output_type": "stream",
     "text": [
      "j) [900, 1200, 1500, 800, 12587, 10000.0, 7000, 7000]\n"
     ]
    }
   ],
   "source": [
    "salarios.append(7000)\n",
    "print(\"j) \" + str(salarios))"
   ]
  },
  {
   "cell_type": "code",
   "execution_count": 23,
   "metadata": {},
   "outputs": [
    {
     "name": "stdout",
     "output_type": "stream",
     "text": [
      "l) [900, 1200, 1500, 800, 12587, 10000.0, 7000, 7000, 1, 9500, 5500]\n"
     ]
    }
   ],
   "source": [
    "salarios = salarios + [9500,5500]\n",
    "print(\"l) \" + str(salarios))"
   ]
  },
  {
   "cell_type": "code",
   "execution_count": 25,
   "metadata": {},
   "outputs": [
    {
     "name": "stdout",
     "output_type": "stream",
     "text": [
      "m) 3\n"
     ]
    }
   ],
   "source": [
    "print(\"m) \" + str(salarios.index(800)))"
   ]
  },
  {
   "cell_type": "code",
   "execution_count": 36,
   "metadata": {},
   "outputs": [
    {
     "name": "stdout",
     "output_type": "stream",
     "text": [
      "n) Crescrente = [1, 800, 900, 1200, 1500, 5500, 7000, 7000, 9500, 10000.0, 12587]\n",
      "n) Decrescrente = [12587, 10000.0, 9500, 7000, 7000, 5500, 1500, 1200, 900, 800, 1]\n"
     ]
    }
   ],
   "source": [
    "print(\"n) Crescrente = \" + str(sorted(salarios)))\n",
    "print(\"n) Decrescrente = \" + str(sorted(salarios, reverse=True)))"
   ]
  },
  {
   "cell_type": "markdown",
   "metadata": {},
   "source": [
    "3) Trabalhando com dicionários:\n",
    "- a) Crie um dicionário para armazenar o nome e a idade de pessoas, Exemplo:\n",
    "    pessoas = {'Rodrigo':30, 'Fulana':18}\n",
    "- b) Imprima a idade da pessoa \"Fulana\"\n",
    "- c) Imprima as Chaves do dicionario criado anteriormente.\n",
    "- d) Imprima os valores das chaves do dicionário\n",
    "- e) Busque a chave \"Felipe\" se ela não existe insira esta e o valor 30 (obs: use o método setdefault())"
   ]
  },
  {
   "cell_type": "code",
   "execution_count": 40,
   "metadata": {},
   "outputs": [
    {
     "name": "stdout",
     "output_type": "stream",
     "text": [
      "a) {'Rodrigo': 30, 'Fulana': 18}\n"
     ]
    }
   ],
   "source": [
    "pessoas = {}\n",
    "pessoas[\"Rodrigo\"] = 30\n",
    "pessoas[\"Fulana\"] = 18\n",
    "print(\"a) \" + str(pessoas))"
   ]
  },
  {
   "cell_type": "code",
   "execution_count": 41,
   "metadata": {},
   "outputs": [
    {
     "name": "stdout",
     "output_type": "stream",
     "text": [
      "b) 18\n"
     ]
    }
   ],
   "source": [
    "print(\"b) \" + str(pessoas[\"Fulana\"]))"
   ]
  },
  {
   "cell_type": "code",
   "execution_count": 42,
   "metadata": {},
   "outputs": [
    {
     "name": "stdout",
     "output_type": "stream",
     "text": [
      "c) dict_keys(['Rodrigo', 'Fulana'])\n"
     ]
    }
   ],
   "source": [
    "print(\"c) \" + str(pessoas.keys()))"
   ]
  },
  {
   "cell_type": "code",
   "execution_count": 43,
   "metadata": {},
   "outputs": [
    {
     "name": "stdout",
     "output_type": "stream",
     "text": [
      "d) dict_values([30, 18])\n"
     ]
    }
   ],
   "source": [
    "print(\"d) \" + str(pessoas.values()))"
   ]
  },
  {
   "cell_type": "code",
   "execution_count": 48,
   "metadata": {},
   "outputs": [
    {
     "name": "stdout",
     "output_type": "stream",
     "text": [
      "e) {'Rodrigo': 30, 'Fulana': 18, 'Felipe': 30}\n"
     ]
    }
   ],
   "source": [
    "if \"Felipe\" not in pessoas.keys():\n",
    "    pessoas.setdefault('Felipe',30)\n",
    "print(\"e) \" + str(pessoas))"
   ]
  },
  {
   "cell_type": "markdown",
   "metadata": {},
   "source": [
    "4) Estruturas condicionais:\n",
    "- a) Verifique se 5 é maior que 1, se sim, imprima \"5 é maior que 1\"\n",
    "- b) crie as variávies x1 e y1, defina dois valores quaisquer para as duas variáveis. \n",
    "  Verifique se x1 é maior que y1. Se sim, imprima \"x1 é maior que y1\", senão imprima: \"y1 é maior que x1\"\n",
    "- c) Crie uma lista de valores como [2,3,4,5,6,7] e faça um loop para imprimir todos os valores na tela multiplicados por 2."
   ]
  },
  {
   "cell_type": "code",
   "execution_count": 49,
   "metadata": {},
   "outputs": [
    {
     "name": "stdout",
     "output_type": "stream",
     "text": [
      "a)\n",
      "5 é maior que 1\n"
     ]
    }
   ],
   "source": [
    "print(\"a)\")\n",
    "if(5 > 1):\n",
    "    print(\"5 é maior que 1\")"
   ]
  },
  {
   "cell_type": "code",
   "execution_count": 50,
   "metadata": {},
   "outputs": [
    {
     "name": "stdout",
     "output_type": "stream",
     "text": [
      "b\n",
      "y1 é maior que x1\n"
     ]
    }
   ],
   "source": [
    "print(\"b)\")\n",
    "x1, y1 = 2, 3\n",
    "if(x1 > y1):\n",
    "    print( \"x1 é maior que y1\")\n",
    "else:\n",
    "    print( \"y1 é maior que x1\")"
   ]
  },
  {
   "cell_type": "code",
   "execution_count": 51,
   "metadata": {},
   "outputs": [
    {
     "name": "stdout",
     "output_type": "stream",
     "text": [
      "c)\n",
      "4\n",
      "6\n",
      "8\n",
      "10\n",
      "12\n",
      "14\n"
     ]
    }
   ],
   "source": [
    "print(\"c)\")\n",
    "lista = [2,3,4,5,6,7]\n",
    "for l in lista:\n",
    "    print(l*2)"
   ]
  },
  {
   "cell_type": "markdown",
   "metadata": {},
   "source": [
    "- Ao concluir, salve seu notebook e envie suas respostas para **contato@minerandodados.com.br**"
   ]
  }
 ],
 "metadata": {
  "kernelspec": {
   "display_name": "Python 3",
   "language": "python",
   "name": "python3"
  },
  "language_info": {
   "codemirror_mode": {
    "name": "ipython",
    "version": 3
   },
   "file_extension": ".py",
   "mimetype": "text/x-python",
   "name": "python",
   "nbconvert_exporter": "python",
   "pygments_lexer": "ipython3",
   "version": "3.6.5"
  },
  "widgets": {
   "application/vnd.jupyter.widget-state+json": {
    "state": {},
    "version_major": 2,
    "version_minor": 0
   }
  }
 },
 "nbformat": 4,
 "nbformat_minor": 2
}
